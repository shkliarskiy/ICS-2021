{
 "cells": [
  {
   "cell_type": "markdown",
   "metadata": {},
   "source": [
    "#  Лабораторна робота №2\n",
    "### практичне завдання 3 \n",
    "### Файлові операції в Python\n",
    "***"
   ]
  },
  {
   "cell_type": "markdown",
   "metadata": {},
   "source": [
    "[__Файлом__](https://www.google.com/url?sa=t&rct=j&q=&esrc=s&source=web&cd=&cad=rja&uact=8&ved=2ahUKEwi27JCGsdLsAhUqpIsKHXr7DUEQFjABegQIBxAC&url=https%3A%2F%2Fru.wikipedia.org%2Fwiki%2F%25D0%25A4%25D0%25B0%25D0%25B9%25D0%25BB&usg=AOvVaw0fNfsmGUYbdOzQf_LNWorC) називається будь-яка послідовність даних, яка знаходиться на зовнішньому носії та має унікальне ім'я.\n",
    "\n",
    "В ієрархічних файлових системах __ім'я__ файлу - це повний шлях до нього від кореня ієрархії. Шлях до файлу часто ассоціюють з його __адресою__.\n",
    "\n",
    "Windows: \n",
    "\n",
    "<pre>\n",
    "C:\\\n",
    "  |- Program Files\n",
    "  |      |- Python\n",
    "  |      |- Anaconda\n",
    "  |      | ...\n",
    "  |- Users\n",
    "  |   |- John\n",
    "  |   |   |- lab.py\n",
    "  |   |   |- file.txt\n",
    "  |   |   | ...\n",
    "  |   |- Bob\n",
    "  |...\n",
    "</pre>\n",
    "   \n",
    "Ім'я файлу - ```c:\\Users\\John\\file.txt```\n",
    "\n",
    "__Шлях__ до файла може бути\n",
    "- [абсолютним](https://ru.wikipedia.org/wiki/Путь_к_файлу)\n",
    "- [відносним](https://ru.wikipedia.org/wiki/Путь_к_файлу)\n",
    "\n"
   ]
  },
  {
   "cell_type": "markdown",
   "metadata": {},
   "source": [
    "### Операції з файлами"
   ]
  },
  {
<<<<<<< HEAD
<<<<<<< HEAD
   "cell_type": "code",
   "execution_count": 1,
   "metadata": {},
   "outputs": [],
   "source": [
    "!touch some_file.txt"
   ]
  },
  {
=======
>>>>>>> master
=======
>>>>>>> group-5
   "cell_type": "markdown",
   "metadata": {},
   "source": [
    "<p style=\"background-color:lightgreen; padding:10px\">\n",
    "    Щоб здійснювати операції з файлом його треба <b>відкрити</b>, тобто створити <b>об'єкт-посилання</b> на цей файл<br>Після завершення роботи з файлом його треба <b>закрити</b>   \n",
    "</p>\n",
    "\n",
    "```handler = open(<шлях до файла>,[<режим доступу>])\n",
    "...\n",
    "handler.close()\n",
    "```\n",
    "\n",
    "[Опис режимів доступу к файлу](https://pythonworld.ru/tipy-dannyx-v-python/fajly-rabota-s-fajlami.html)"
   ]
  },
  {
   "cell_type": "code",
<<<<<<< HEAD
<<<<<<< HEAD
   "execution_count": 12,
=======
   "execution_count": 1,
>>>>>>> group-5
   "metadata": {},
   "outputs": [],
   "source": [
    "h = open(\"./some_file.txt\")"
<<<<<<< HEAD
=======
   "execution_count": 20,
   "metadata": {},
   "outputs": [],
   "source": [
    "h = open(\"./some_file1.txt\", 'w')"
>>>>>>> master
=======
>>>>>>> group-5
   ]
  },
  {
   "cell_type": "code",
<<<<<<< HEAD
<<<<<<< HEAD
   "execution_count": 13,
=======
   "execution_count": 10,
>>>>>>> master
   "metadata": {},
   "outputs": [
    {
     "name": "stdout",
     "output_type": "stream",
     "text": [
      "['_CHUNK_SIZE', '__class__', '__del__', '__delattr__', '__dict__', '__dir__', '__doc__', '__enter__', '__eq__', '__exit__', '__format__', '__ge__', '__getattribute__', '__getstate__', '__gt__', '__hash__', '__init__', '__init_subclass__', '__iter__', '__le__', '__lt__', '__ne__', '__new__', '__next__', '__reduce__', '__reduce_ex__', '__repr__', '__setattr__', '__sizeof__', '__str__', '__subclasshook__', '_checkClosed', '_checkReadable', '_checkSeekable', '_checkWritable', '_finalizing', 'buffer', 'close', 'closed', 'detach', 'encoding', 'errors', 'fileno', 'flush', 'isatty', 'line_buffering', 'mode', 'name', 'newlines', 'read', 'readable', 'readline', 'readlines', 'reconfigure', 'seek', 'seekable', 'tell', 'truncate', 'writable', 'write', 'write_through', 'writelines']\n"
     ]
    }
   ],
   "source": [
    "print(dir(h))"
   ]
  },
  {
   "cell_type": "code",
<<<<<<< HEAD
   "execution_count": 15,
   "metadata": {},
   "outputs": [],
   "source": [
    "# після завершення роботи файл ТРЕБА закривати\n",
    "h.close()"
   ]
  },
  {
   "cell_type": "markdown",
   "metadata": {},
   "source": [
    "#### запис в файл"
=======
   "execution_count": 8,
   "metadata": {},
   "outputs": [
    {
     "data": {
      "text/plain": [
       "(_io.TextIOWrapper, 4424491984, './some_file.txt', 'r', True, False)"
      ]
     },
     "execution_count": 8,
     "metadata": {},
     "output_type": "execute_result"
    }
   ],
   "source": [
    "type(h), id(h), h.name, h.mode, h.readable(), h.writable()"
>>>>>>> group-5
   ]
  },
  {
   "cell_type": "code",
<<<<<<< HEAD
   "execution_count": 18,
   "metadata": {},
   "outputs": [],
   "source": [
    "# записати в файл строку `write`\n",
    "h = open(\"./some_file.txt\", 'w')\n",
    "h.write(\"1-а строка\\n\")\n",
    "h.close()"
=======
   "execution_count": 14,
   "metadata": {},
   "outputs": [
    {
     "data": {
      "text/plain": [
       "('w', False, True)"
      ]
     },
     "execution_count": 14,
     "metadata": {},
     "output_type": "execute_result"
    }
   ],
   "source": [
    "h.mode, h.readable(), h.writable()"
=======
   "execution_count": 4,
   "metadata": {},
   "outputs": [
    {
     "name": "stdout",
     "output_type": "stream",
     "text": [
      "['_CHUNK_SIZE', '__class__', '__del__', '__delattr__', '__dict__', '__dir__', '__doc__', '__enter__', '__eq__', '__exit__', '__format__', '__ge__', '__getattribute__', '__getstate__', '__gt__', '__hash__', '__init__', '__init_subclass__', '__iter__', '__le__', '__lt__', '__ne__', '__new__', '__next__', '__reduce__', '__reduce_ex__', '__repr__', '__setattr__', '__sizeof__', '__str__', '__subclasshook__', '_checkClosed', '_checkReadable', '_checkSeekable', '_checkWritable', '_finalizing', 'buffer', 'close', 'closed', 'detach', 'encoding', 'errors', 'fileno', 'flush', 'isatty', 'line_buffering', 'mode', 'name', 'newlines', 'read', 'readable', 'readline', 'readlines', 'reconfigure', 'seek', 'seekable', 'tell', 'truncate', 'writable', 'write', 'write_through', 'writelines']\n"
     ]
    }
   ],
   "source": [
    "print(dir(h))"
>>>>>>> group-5
   ]
  },
  {
   "cell_type": "code",
<<<<<<< HEAD
   "execution_count": 33,
=======
   "execution_count": 9,
>>>>>>> group-5
   "metadata": {},
   "outputs": [],
   "source": [
    "# після завершення роботи файл ТРЕБА закривати\n",
    "h.close()"
   ]
  },
  {
   "cell_type": "markdown",
   "metadata": {},
   "source": [
    "#### запис в файл"
<<<<<<< HEAD
>>>>>>> master
=======
>>>>>>> group-5
   ]
  },
  {
   "cell_type": "code",
<<<<<<< HEAD
   "execution_count": 19,
   "metadata": {},
   "outputs": [
    {
     "name": "stdout",
     "output_type": "stream",
     "text": [
<<<<<<< HEAD
      "1-а строка\r\n"
=======
      "11\n"
>>>>>>> master
     ]
    }
   ],
   "source": [
<<<<<<< HEAD
    "!cat some_file.txt"
=======
    "# записати в файл строку `write`\n",
    "h = open(\"./some_file.txt\", 'w+')\n",
    "print(h.write(\"1-а строка\\n\"))\n",
    "h.close()"
>>>>>>> master
=======
   "execution_count": 16,
   "metadata": {},
   "outputs": [],
   "source": [
    "# записати в файл строку `write`\n",
    "h = open(\"./some_file1.txt\", 'w')\n",
    "h.write(\"1-а строка\\n\")\n",
    "h.close()"
>>>>>>> group-5
   ]
  },
  {
   "cell_type": "code",
<<<<<<< HEAD
<<<<<<< HEAD
   "execution_count": 26,
   "metadata": {},
   "outputs": [],
   "source": [
    "# ЗАВДАННЯ 1\n",
    "# використовуючи цикл 'for' записати в файл 'my_file.txt` 10 рядків:\n",
    "#   1-й рядок\n",
    "#   2-й рядок\n",
    "#   ...\n",
    "h1 = open('./my_file.txt', 'w')\n",
    "for i in range(1,10):\n",
    "    line = \"{} рядок\\n\".format(i)\n",
    "    h1.write(line)\n",
    "    \n",
    "h1.close()"
=======
   "execution_count": 17,
   "metadata": {},
   "outputs": [],
   "source": [
    "h.write?"
>>>>>>> master
   ]
  },
  {
   "cell_type": "code",
   "execution_count": 25,
   "metadata": {},
<<<<<<< HEAD
   "outputs": [
    {
     "name": "stdout",
     "output_type": "stream",
     "text": [
      "1 рядок\r\n",
      "2 рядок\r\n",
      "3 рядок\r\n",
      "4 рядок\r\n",
      "5 рядок\r\n",
      "6 рядок\r\n",
      "7 рядок\r\n",
      "8 рядок\r\n",
      "9 рядок\r\n"
     ]
    }
   ],
   "source": [
    "!cat my_file.txt"
=======
=======
   "execution_count": null,
   "metadata": {},
>>>>>>> group-5
   "outputs": [],
   "source": [
    "# ЗАВДАННЯ 1\n",
    "# використовуючи цикл 'for' записати в файл 'my_file.txt` 10 рядків:\n",
    "#   1-й рядок\n",
    "#   2-й рядок\n",
<<<<<<< HEAD
    "#   ...\n",
    "h = open(\"./my_file.txt\", 'w+')\n",
    "\n",
    "for i in range(1,10):\n",
    "    h.write(\"{}-й рядок\\n\".format(i))\n",
    "\n",
    "h.close()"
>>>>>>> master
=======
    "#   ...\n"
>>>>>>> group-5
   ]
  },
  {
   "cell_type": "code",
<<<<<<< HEAD
<<<<<<< HEAD
   "execution_count": 29,
=======
   "execution_count": 43,
>>>>>>> master
=======
   "execution_count": 19,
>>>>>>> group-5
   "metadata": {},
   "outputs": [],
   "source": [
    "# запис в файл з списка строк\n",
    "some_list = [\n",
    "    \"строка 1\\n\",\n",
    "    \"строка 2\\n\",\n",
    "    \"строка 3\\n\"\n",
    "]\n",
    "\n",
    "h = open(\"./some_file.txt\", 'w+')\n",
    "h.writelines(some_list)\n",
    "h.close()"
   ]
  },
  {
<<<<<<< HEAD
<<<<<<< HEAD
   "cell_type": "code",
   "execution_count": 36,
   "metadata": {},
   "outputs": [
    {
     "name": "stdout",
     "output_type": "stream",
     "text": [
      "строка 1\r\n",
      "строка 2\r\n",
      "строка 3\r\n"
     ]
    }
   ],
   "source": [
    "!cat some_file.txt"
   ]
  },
  {
   "cell_type": "markdown",
   "metadata": {},
   "source": [
    "#### читання з файла"
=======
=======
>>>>>>> group-5
   "cell_type": "markdown",
   "metadata": {},
   "source": [
    "#### читання з файла"
   ]
  },
  {
   "cell_type": "code",
<<<<<<< HEAD
   "execution_count": 54,
   "metadata": {},
   "outputs": [],
   "source": [
    "h = open(\"./some_file.txt\")"
>>>>>>> master
   ]
  },
  {
   "cell_type": "code",
<<<<<<< HEAD
   "execution_count": 50,
   "metadata": {},
   "outputs": [],
   "source": [
    "h = open(\"./some_file.txt\", 'r')"
=======
   "execution_count": 45,
   "metadata": {},
   "outputs": [
    {
     "data": {
      "text/plain": [
       "'строка 1\\nстрока 2\\nстрока 3\\n'"
      ]
     },
     "execution_count": 45,
     "metadata": {},
     "output_type": "execute_result"
    }
   ],
   "source": [
    "h.read()"
>>>>>>> master
   ]
  },
  {
   "cell_type": "code",
<<<<<<< HEAD
   "execution_count": 47,
   "metadata": {},
   "outputs": [],
   "source": [
    "# read(), readline(), readlines()"
=======
   "execution_count": 39,
   "metadata": {},
   "outputs": [],
   "source": [
    "h.close()"
>>>>>>> master
   ]
  },
  {
   "cell_type": "code",
<<<<<<< HEAD
   "execution_count": 51,
=======
   "execution_count": 55,
>>>>>>> master
   "metadata": {},
   "outputs": [
    {
     "data": {
      "text/plain": [
       "['строка 1\\n', 'строка 2\\n', 'строка 3\\n']"
      ]
     },
<<<<<<< HEAD
     "execution_count": 51,
=======
     "execution_count": 55,
>>>>>>> master
     "metadata": {},
     "output_type": "execute_result"
    }
   ],
   "source": [
    "h.readlines()"
   ]
  },
  {
   "cell_type": "code",
<<<<<<< HEAD
   "execution_count": 49,
   "metadata": {},
   "outputs": [],
   "source": [
    "h.close()"
=======
   "execution_count": 51,
=======
   "execution_count": 21,
   "metadata": {},
   "outputs": [],
   "source": []
  },
  {
   "cell_type": "code",
   "execution_count": null,
>>>>>>> group-5
   "metadata": {},
   "outputs": [],
   "source": [
    "# read(), readline(), readlines()"
<<<<<<< HEAD
>>>>>>> master
=======
>>>>>>> group-5
   ]
  },
  {
   "cell_type": "code",
<<<<<<< HEAD
<<<<<<< HEAD
   "execution_count": null,
   "metadata": {},
   "outputs": [],
   "source": []
  },
  {
   "cell_type": "code",
   "execution_count": 52,
=======
   "execution_count": 59,
>>>>>>> master
=======
   "execution_count": 27,
>>>>>>> group-5
   "metadata": {},
   "outputs": [
    {
     "name": "stdout",
     "output_type": "stream",
     "text": [
<<<<<<< HEAD
<<<<<<< HEAD
      "1 рядок\r\n",
      "2 рядок\r\n",
      "3 рядок\r\n",
      "4 рядок\r\n",
      "5 рядок\r\n",
      "6 рядок\r\n",
      "7 рядок\r\n",
      "8 рядок\r\n",
      "9 рядок\r\n"
=======
      "1-й рядок\n"
>>>>>>> master
=======
      "['строка 1\\n', 'строка 2\\n', 'строка 3\\n']\n"
>>>>>>> group-5
     ]
    }
   ],
   "source": [
<<<<<<< HEAD
<<<<<<< HEAD
    "!cat my_file.txt"
=======
    "l = '1-й рядок\\n'\n",
    "l = l[: -1]\n",
    "print(l)"
>>>>>>> master
=======
    "h = open(\"./some_file.txt\")\n",
    "ff = h.readlines()\n",
    "print(ff)\n",
    "h.close()"
>>>>>>> group-5
   ]
  },
  {
   "cell_type": "code",
<<<<<<< HEAD
<<<<<<< HEAD
   "execution_count": 54,
=======
   "execution_count": 60,
>>>>>>> master
   "metadata": {},
   "outputs": [
    {
     "name": "stdout",
     "output_type": "stream",
     "text": [
<<<<<<< HEAD
      "1 рядок\n",
      "\n",
      "2 рядок\n",
      "\n",
      "3 рядок\n",
      "\n",
      "4 рядок\n",
      "\n",
      "5 рядок\n",
      "\n"
=======
      "1-й рядок\n",
      "2-й рядок\n",
      "3-й рядок\n",
      "4-й рядок\n",
      "5-й рядок\n"
>>>>>>> master
     ]
    }
   ],
   "source": [
    "# ЗАВДАННЯ 2\n",
    "# прочитати та вивести перші 5 записів з файла `my_file.txt`\n",
    "# ...\n",
<<<<<<< HEAD
    "h2 = open('my_file.txt')\n",
    "\n",
    "for i in range(5):\n",
    "    l = h2.readline()\n",
    "    print(l)\n",
    "    \n"
=======
    "\n",
    "h = open(\"./my_file.txt\")\n",
    "\n",
    "for i in range(5):\n",
    "    line = h.readline()  # 1-й рядок\\n\n",
    "    line = line[: -1]\n",
    "    print(line)"
>>>>>>> master
=======
   "execution_count": null,
   "metadata": {},
   "outputs": [],
   "source": [
    "# ЗАВДАННЯ 2\n",
    "# прочитати та вивести перші 5 записів з файла `my_file.txt`\n",
    "# ...\n"
>>>>>>> group-5
   ]
  },
  {
   "cell_type": "markdown",
   "metadata": {},
   "source": [
    "### Контекстні менеджери Python\n",
    "\n",
    "__Контекстні менеджери__ призначені для створення тимчасового середовища для виконання опрерацій над деяким об'єктом\n",
    "\n",
    "для створення такого середовища використовується оператор \n",
    "\n",
    "```with <об'єкт> as <аліас>:\n",
    "       код\n",
    "```"
   ]
  },
  {
   "cell_type": "code",
<<<<<<< HEAD
<<<<<<< HEAD
   "execution_count": 55,
=======
   "execution_count": 61,
>>>>>>> master
=======
   "execution_count": 28,
>>>>>>> group-5
   "metadata": {},
   "outputs": [
    {
     "name": "stdout",
     "output_type": "stream",
     "text": [
      "['строка 1\\n', 'строка 2\\n', 'строка 3\\n']\n"
     ]
    }
   ],
   "source": [
    "# прочитати файл 'some_file.txt'\n",
<<<<<<< HEAD
<<<<<<< HEAD
=======
    "\n",
>>>>>>> master
=======
>>>>>>> group-5
    "with open('./some_file.txt') as sf:\n",
    "    file_to_list = sf.readlines()\n",
    "    \n",
    "print(file_to_list)"
   ]
  },
  {
   "cell_type": "code",
   "execution_count": null,
   "metadata": {},
   "outputs": [],
   "source": [
    "# ЗАВДАННЯ 3\n",
<<<<<<< HEAD
<<<<<<< HEAD
    "# виконати Завдання 2 з допомогою менеджера контента\n",
=======
    "# виконати Завдання 2 з допомогою менеджера контекста\n",
>>>>>>> master
=======
    "# виконати Завдання 2 з допомогою менеджера контекста\n",
>>>>>>> group-5
    "# ...\n"
   ]
  }
 ],
 "metadata": {
  "kernelspec": {
   "display_name": "Python 3",
   "language": "python",
   "name": "python3"
  },
  "language_info": {
   "codemirror_mode": {
    "name": "ipython",
    "version": 3
   },
   "file_extension": ".py",
   "mimetype": "text/x-python",
   "name": "python",
   "nbconvert_exporter": "python",
   "pygments_lexer": "ipython3",
   "version": "3.7.4"
  }
 },
 "nbformat": 4,
 "nbformat_minor": 2
}
