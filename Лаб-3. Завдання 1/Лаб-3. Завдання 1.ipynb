{
 "cells": [
  {
   "cell_type": "markdown",
   "metadata": {},
   "source": [
    "#  Лабораторна робота №3\n",
    "### практичне завдання 1 \n",
    "***"
   ]
  },
  {
   "cell_type": "markdown",
<<<<<<< HEAD
<<<<<<< HEAD
   "metadata": {
    "heading_collapsed": true
   },
=======
   "metadata": {},
>>>>>>> master
=======
   "metadata": {},
>>>>>>> group-5
   "source": [
    "## Словники - Dictionary\n",
    "\n",
    "__Словник__ - це _послідовна_ структура даних, кожний елемент якої є парою \"__ключ : зачення__\" (key-value) та записується в фігурних дужках через кому:\n",
    "\n",
    "slovnik = {key1:value1, key2:value2, ... keyN:valueN}\n",
    "\n",
    "\n",
    "<pre>slovnik = {int_num : 123,\n",
    "           stroka: \"John\",\n",
    "           some_list:[1,2,3],\n",
    "           \"const\":100}</pre>\n",
    "\n",
    "[Докладніше про словники в Python](https://devpractice.ru/python-lesson-9-dict/)"
   ]
  },
  {
   "cell_type": "markdown",
<<<<<<< HEAD
<<<<<<< HEAD
   "metadata": {
    "hidden": true
   },
=======
   "metadata": {},
>>>>>>> master
=======
   "metadata": {},
>>>>>>> group-5
   "source": [
    "__Способи створення словників__\n",
    "1. статичний\n",
    "2. фунціональний"
   ]
  },
  {
   "cell_type": "code",
<<<<<<< HEAD
<<<<<<< HEAD
   "execution_count": 1,
   "metadata": {
    "hidden": true
   },
=======
   "execution_count": 2,
   "metadata": {},
>>>>>>> master
=======
   "execution_count": 2,
   "metadata": {
    "code_folding": []
   },
>>>>>>> group-5
   "outputs": [],
   "source": [
    "# в першому випадку змінній присвоюється заздалегідь визначена структура:\n",
    "\n",
    "name=\"some_key\"\n",
    "some_value = \"Smith\"\n",
    "\n",
    "static_slovnik = {\n",
    "           \"int_num\" : 123,\n",
    "           \"stroka\": \"John\",\n",
    "           \"some_list\" : [1,2,3],\n",
    "           \"const\" : 100,\n",
<<<<<<< HEAD
    "           100 : 12,\n",
=======
    "           100 : 12.4,\n",
>>>>>>> group-5
    "           name : some_value}\n",
    "\n",
    "# ВАЖЛИВО! ключі - повинні бути заздалегідь визначеними константами"
   ]
  },
  {
   "cell_type": "code",
<<<<<<< HEAD
<<<<<<< HEAD
   "execution_count": 2,
   "metadata": {
    "hidden": true
   },
   "outputs": [],
=======
=======
>>>>>>> group-5
   "execution_count": 3,
   "metadata": {},
   "outputs": [
    {
     "data": {
      "text/plain": [
       "{'int_num': 123,\n",
       " 'stroka': 'John',\n",
       " 'some_list': [1, 2, 3],\n",
       " 'const': 100,\n",
<<<<<<< HEAD
       " 100: 12,\n",
=======
       " 100: 12.4,\n",
>>>>>>> group-5
       " 'some_key': 'Smith'}"
      ]
     },
     "execution_count": 3,
     "metadata": {},
     "output_type": "execute_result"
    }
   ],
<<<<<<< HEAD
>>>>>>> master
=======
>>>>>>> group-5
   "source": [
    "static_slovnik"
   ]
  },
  {
   "cell_type": "code",
<<<<<<< HEAD
<<<<<<< HEAD
   "execution_count": 3,
   "metadata": {
    "hidden": true
   },
=======
   "execution_count": 4,
   "metadata": {},
>>>>>>> master
=======
   "execution_count": 4,
   "metadata": {},
>>>>>>> group-5
   "outputs": [],
   "source": [
    "# в другому випадку пари 'ключ-значення' передаються \n",
    "# в функцію-конструктор `dict`: де 'ключ' - параметр, який отримає 'значення'\n",
    "\n",
    "func_slovnik = dict(int_num = 123,\n",
    "                    stroka = \"John\",\n",
    "                    some_list = [1,2,3],\n",
    "                    const = 100,\n",
    "                    name = some_value) \n",
    "\n",
    "# ВАЖЛИВО! ім'я параметра стає іменем ключа у вигляді строки!"
   ]
  },
  {
   "cell_type": "code",
<<<<<<< HEAD
<<<<<<< HEAD
   "execution_count": 4,
   "metadata": {
    "hidden": true
   },
   "outputs": [],
=======
=======
>>>>>>> group-5
   "execution_count": 5,
   "metadata": {},
   "outputs": [
    {
     "data": {
      "text/plain": [
       "{'int_num': 123,\n",
       " 'stroka': 'John',\n",
       " 'some_list': [1, 2, 3],\n",
       " 'const': 100,\n",
       " 'name': 'Smith'}"
      ]
     },
     "execution_count": 5,
     "metadata": {},
     "output_type": "execute_result"
    }
   ],
<<<<<<< HEAD
>>>>>>> master
=======
>>>>>>> group-5
   "source": [
    "func_slovnik"
   ]
  },
  {
   "cell_type": "code",
<<<<<<< HEAD
<<<<<<< HEAD
   "execution_count": 5,
   "metadata": {
    "hidden": true
   },
=======
   "execution_count": 7,
   "metadata": {},
>>>>>>> master
=======
   "execution_count": 7,
   "metadata": {},
>>>>>>> group-5
   "outputs": [],
   "source": [
    "# пустий словник\n",
    "empty_dict = {}\n",
    "\n",
    "# або\n",
    "empty_dict_1 = dict()"
   ]
  },
  {
<<<<<<< HEAD
   "cell_type": "markdown",
<<<<<<< HEAD
   "metadata": {
    "hidden": true
   },
=======
   "metadata": {},
>>>>>>> master
=======
   "cell_type": "code",
   "execution_count": 8,
   "metadata": {},
   "outputs": [
    {
     "data": {
      "text/plain": [
       "{}"
      ]
     },
     "execution_count": 8,
     "metadata": {},
     "output_type": "execute_result"
    }
   ],
   "source": [
    "empty_dict"
   ]
  },
  {
   "cell_type": "markdown",
   "metadata": {},
>>>>>>> group-5
   "source": [
    "#### словник, як і список - є _змінним_ обїєктом"
   ]
  },
  {
   "cell_type": "code",
<<<<<<< HEAD
<<<<<<< HEAD
   "execution_count": 6,
   "metadata": {
    "hidden": true
   },
   "outputs": [],
=======
   "execution_count": 8,
=======
   "execution_count": 9,
>>>>>>> group-5
   "metadata": {},
   "outputs": [
    {
     "name": "stdout",
     "output_type": "stream",
     "text": [
<<<<<<< HEAD
      "{} 4379846928\n",
      "{} 4379867728\n"
     ]
    }
   ],
>>>>>>> master
=======
      "{} 4557562816\n",
      "{} 4557565536\n"
     ]
    }
   ],
>>>>>>> group-5
   "source": [
    "print(empty_dict, id(empty_dict))\n",
    "print(empty_dict_1, id(empty_dict_1))"
   ]
  },
  {
   "cell_type": "code",
<<<<<<< HEAD
<<<<<<< HEAD
   "execution_count": 7,
   "metadata": {
    "hidden": true
   },
   "outputs": [],
=======
   "execution_count": 9,
=======
   "execution_count": 1,
>>>>>>> group-5
   "metadata": {},
   "outputs": [
    {
     "name": "stdout",
     "output_type": "stream",
     "text": [
<<<<<<< HEAD
      "[] 4379154304\n",
      "[] 4379890624\n"
     ]
    }
   ],
>>>>>>> master
=======
      "[] 4412057472\n",
      "[] 4412922208\n"
     ]
    }
   ],
>>>>>>> group-5
   "source": [
    "l = []\n",
    "l1 = list()\n",
    "print (l, id(l))\n",
    "print (l1, id(l1))"
   ]
  },
  {
   "cell_type": "markdown",
<<<<<<< HEAD
<<<<<<< HEAD
   "metadata": {
    "hidden": true
   },
=======
   "metadata": {},
>>>>>>> master
=======
   "metadata": {},
>>>>>>> group-5
   "source": [
    "на відмінність від  кортежів:"
   ]
  },
  {
   "cell_type": "code",
<<<<<<< HEAD
<<<<<<< HEAD
   "execution_count": 8,
   "metadata": {
    "hidden": true
   },
   "outputs": [],
=======
   "execution_count": 10,
=======
   "execution_count": 11,
>>>>>>> group-5
   "metadata": {},
   "outputs": [
    {
     "name": "stdout",
     "output_type": "stream",
     "text": [
<<<<<<< HEAD
      "() 4344307792\n",
      "() 4344307792\n"
     ]
    }
   ],
>>>>>>> master
=======
      "() 4522000464\n",
      "() 4522000464\n"
     ]
    }
   ],
>>>>>>> group-5
   "source": [
    "k = ()\n",
    "k1 = tuple()\n",
    "print (k, id(k))\n",
    "print (k1, id(k1))"
   ]
  },
  {
   "cell_type": "markdown",
<<<<<<< HEAD
<<<<<<< HEAD
   "metadata": {
    "hidden": true
   },
=======
   "metadata": {},
>>>>>>> master
=======
   "metadata": {},
>>>>>>> group-5
   "source": [
    "<dir style=\"background-color: cyan\">\n",
    "<b>Словник</b> - це <i>масив</i>/список індексами якого є <b>хеш-значення</b>. \n",
    "\n",
    "Такий масив ще називають <i>асоціативним масивом</i> чи <i>хеш-таблицей</i>\n",
    "</dir>"
   ]
  },
  {
   "cell_type": "code",
<<<<<<< HEAD
<<<<<<< HEAD
   "execution_count": 9,
   "metadata": {
    "hidden": true
=======
   "execution_count": 16,
   "metadata": {
    "run_control": {
     "marked": true
    }
>>>>>>> group-5
   },
   "outputs": [],
   "source": [
    "d = {\"John\"  : \"US, New York\",\n",
<<<<<<< HEAD
    "     \"Vovan\" : \"RU, Muxosransk\",\n",
    "     \"Me\"    : \"a\"}"
=======
   "execution_count": 12,
   "metadata": {},
   "outputs": [],
   "source": [
    "d = {\"John\"  : \"US, New York\",\n",
    "     \"Vovan\" : \"RU, Muxosransk\"\n",
    "    }"
>>>>>>> master
=======
    "     \"Vovan\" : \"RU, Muxosransk\"}"
>>>>>>> group-5
   ]
  },
  {
   "cell_type": "code",
<<<<<<< HEAD
<<<<<<< HEAD
   "execution_count": 10,
   "metadata": {
    "hidden": true
   },
   "outputs": [],
=======
   "execution_count": 13,
   "metadata": {
    "scrolled": true
   },
=======
   "execution_count": 17,
   "metadata": {},
>>>>>>> group-5
   "outputs": [
    {
     "name": "stdout",
     "output_type": "stream",
     "text": [
      "key= John \t value= US, New York\n",
      "key= Vovan \t value= RU, Muxosransk\n"
     ]
    }
   ],
<<<<<<< HEAD
>>>>>>> master
=======
>>>>>>> group-5
   "source": [
    "for k, v in d.items():\n",
    "    print(\"key=\", k, '\\t', \"value=\",v)"
   ]
  },
  {
   "cell_type": "code",
<<<<<<< HEAD
<<<<<<< HEAD
   "execution_count": 11,
   "metadata": {
    "code_folding": [],
    "hidden": true
=======
   "execution_count": 14,
   "metadata": {
    "code_folding": []
>>>>>>> master
=======
   "execution_count": 14,
   "metadata": {
    "code_folding": []
>>>>>>> group-5
   },
   "outputs": [],
   "source": [
    "l = [\"NY, Broadway 1\", \n",
    "     \"RU, Muxosransk\"]"
   ]
  },
  {
   "cell_type": "code",
<<<<<<< HEAD
<<<<<<< HEAD
   "execution_count": 12,
   "metadata": {
    "code_folding": [],
    "hidden": true
   },
   "outputs": [],
=======
=======
>>>>>>> group-5
   "execution_count": 15,
   "metadata": {
    "code_folding": []
   },
   "outputs": [
    {
     "name": "stdout",
     "output_type": "stream",
     "text": [
      "index= 0 \t value= NY, Broadway 1\n",
      "index= 1 \t value= RU, Muxosransk\n"
     ]
    }
   ],
<<<<<<< HEAD
>>>>>>> master
=======
>>>>>>> group-5
   "source": [
    "for i, v in enumerate(l):\n",
    "    print(\"index=\", i, '\\t', \"value=\",v)"
   ]
  },
  {
<<<<<<< HEAD
   "cell_type": "markdown",
<<<<<<< HEAD
   "metadata": {
    "hidden": true
   },
=======
   "metadata": {},
>>>>>>> master
=======
   "cell_type": "code",
   "execution_count": 18,
   "metadata": {},
   "outputs": [
    {
     "data": {
      "text/plain": [
       "{'k1': 1, 'k2': 2}"
      ]
     },
     "execution_count": 18,
     "metadata": {},
     "output_type": "execute_result"
    }
   ],
   "source": [
    "d = {'k1': 1, 'k2': 2}\n",
    "d"
   ]
  },
  {
   "cell_type": "code",
   "execution_count": 44,
   "metadata": {
    "scrolled": false
   },
   "outputs": [
    {
     "data": {
      "text/plain": [
       "4561545408"
      ]
     },
     "execution_count": 44,
     "metadata": {},
     "output_type": "execute_result"
    }
   ],
   "source": [
    "id(d)"
   ]
  },
  {
   "cell_type": "code",
   "execution_count": 46,
   "metadata": {
    "scrolled": false
   },
   "outputs": [
    {
     "data": {
      "text/plain": [
       "4557352880"
      ]
     },
     "execution_count": 46,
     "metadata": {},
     "output_type": "execute_result"
    }
   ],
   "source": [
    "id('Joh')"
   ]
  },
  {
   "cell_type": "markdown",
   "metadata": {},
>>>>>>> group-5
   "source": [
    "#### принцип створення хеш-значень (хеш функція)\n",
    "\n",
    "[прочитати про хеш-функції](http://ruslan.rv.ua/python-essential/methodologies/hash/)"
   ]
  },
  {
   "cell_type": "code",
<<<<<<< HEAD
<<<<<<< HEAD
   "execution_count": 13,
   "metadata": {
    "hidden": true
   },
   "outputs": [],
=======
   "execution_count": 16,
=======
   "execution_count": 47,
>>>>>>> group-5
   "metadata": {
    "collapsed": true
   },
   "outputs": [
    {
     "name": "stdout",
     "output_type": "stream",
     "text": [
      "['ArithmeticError', 'AssertionError', 'AttributeError', 'BaseException', 'BlockingIOError', 'BrokenPipeError', 'BufferError', 'BytesWarning', 'ChildProcessError', 'ConnectionAbortedError', 'ConnectionError', 'ConnectionRefusedError', 'ConnectionResetError', 'DeprecationWarning', 'EOFError', 'Ellipsis', 'EnvironmentError', 'Exception', 'False', 'FileExistsError', 'FileNotFoundError', 'FloatingPointError', 'FutureWarning', 'GeneratorExit', 'IOError', 'ImportError', 'ImportWarning', 'IndentationError', 'IndexError', 'InterruptedError', 'IsADirectoryError', 'KeyError', 'KeyboardInterrupt', 'LookupError', 'MemoryError', 'ModuleNotFoundError', 'NameError', 'None', 'NotADirectoryError', 'NotImplemented', 'NotImplementedError', 'OSError', 'OverflowError', 'PendingDeprecationWarning', 'PermissionError', 'ProcessLookupError', 'RecursionError', 'ReferenceError', 'ResourceWarning', 'RuntimeError', 'RuntimeWarning', 'StopAsyncIteration', 'StopIteration', 'SyntaxError', 'SyntaxWarning', 'SystemError', 'SystemExit', 'TabError', 'TimeoutError', 'True', 'TypeError', 'UnboundLocalError', 'UnicodeDecodeError', 'UnicodeEncodeError', 'UnicodeError', 'UnicodeTranslateError', 'UnicodeWarning', 'UserWarning', 'ValueError', 'Warning', 'ZeroDivisionError', '__IPYTHON__', '__build_class__', '__debug__', '__doc__', '__import__', '__loader__', '__name__', '__package__', '__spec__', 'abs', 'all', 'any', 'ascii', 'bin', 'bool', 'breakpoint', 'bytearray', 'bytes', 'callable', 'chr', 'classmethod', 'compile', 'complex', 'copyright', 'credits', 'delattr', 'dict', 'dir', 'display', 'divmod', 'enumerate', 'eval', 'exec', 'filter', 'float', 'format', 'frozenset', 'get_ipython', 'getattr', 'globals', 'hasattr', 'hash', 'help', 'hex', 'id', 'input', 'int', 'isinstance', 'issubclass', 'iter', 'len', 'license', 'list', 'locals', 'map', 'max', 'memoryview', 'min', 'next', 'object', 'oct', 'open', 'ord', 'pow', 'print', 'property', 'range', 'repr', 'reversed', 'round', 'set', 'setattr', 'slice', 'sorted', 'staticmethod', 'str', 'sum', 'super', 'tuple', 'type', 'vars', 'zip']\n"
     ]
    }
   ],
<<<<<<< HEAD
>>>>>>> master
=======
>>>>>>> group-5
   "source": [
    "print(dir(__builtins__))"
   ]
  },
  {
   "cell_type": "code",
<<<<<<< HEAD
<<<<<<< HEAD
   "execution_count": 14,
   "metadata": {
    "hidden": true
   },
   "outputs": [],
   "source": [
    "d, id(d), id('John'), id(d['Me']), id(\"a\")"
=======
   "execution_count": 17,
=======
   "execution_count": 53,
>>>>>>> group-5
   "metadata": {},
   "outputs": [
    {
     "data": {
      "text/plain": [
<<<<<<< HEAD
       "({'John': 'US, New York', 'Vovan': 'RU, Muxosransk'}, 4379848608, 4379334192)"
      ]
     },
     "execution_count": 17,
=======
       "({'k1': 1, 'k2': 2}, 4561545408, 4557019760)"
      ]
     },
     "execution_count": 53,
>>>>>>> group-5
     "metadata": {},
     "output_type": "execute_result"
    }
   ],
   "source": [
    "d, id(d), id('John')"
<<<<<<< HEAD
>>>>>>> master
=======
>>>>>>> group-5
   ]
  },
  {
   "cell_type": "code",
<<<<<<< HEAD
<<<<<<< HEAD
   "execution_count": 15,
   "metadata": {
    "hidden": true
   },
=======
   "execution_count": 18,
   "metadata": {},
>>>>>>> master
   "outputs": [],
   "source": [
    "h = hash('John')"
=======
   "execution_count": 2,
   "metadata": {},
   "outputs": [],
   "source": [
    "h = hash('Johnfdgdrgreger')"
>>>>>>> group-5
   ]
  },
  {
   "cell_type": "code",
<<<<<<< HEAD
<<<<<<< HEAD
   "execution_count": 16,
   "metadata": {
    "hidden": true
   },
   "outputs": [],
   "source": [
    "h, bin(h)"
=======
   "execution_count": 19,
=======
   "execution_count": 3,
>>>>>>> group-5
   "metadata": {},
   "outputs": [
    {
     "data": {
      "text/plain": [
<<<<<<< HEAD
       "5604331466981552523"
      ]
     },
     "execution_count": 19,
=======
       "-6540072024315974423"
      ]
     },
     "execution_count": 3,
>>>>>>> group-5
     "metadata": {},
     "output_type": "execute_result"
    }
   ],
   "source": [
    "h"
<<<<<<< HEAD
>>>>>>> master
=======
>>>>>>> group-5
   ]
  },
  {
   "cell_type": "code",
<<<<<<< HEAD
<<<<<<< HEAD
   "execution_count": 17,
   "metadata": {
    "hidden": true
   },
   "outputs": [],
   "source": [
    "h & 1_000_000_000"
=======
   "execution_count": 22,
=======
   "execution_count": 72,
>>>>>>> group-5
   "metadata": {},
   "outputs": [
    {
     "data": {
      "text/plain": [
<<<<<<< HEAD
       "3"
      ]
     },
     "execution_count": 22,
=======
       "4966334464"
      ]
     },
     "execution_count": 72,
>>>>>>> group-5
     "metadata": {},
     "output_type": "execute_result"
    }
   ],
   "source": [
<<<<<<< HEAD
    "h & 7"
>>>>>>> master
=======
    "h & 5_000_000_000"
>>>>>>> group-5
   ]
  },
  {
   "cell_type": "code",
<<<<<<< HEAD
<<<<<<< HEAD
   "execution_count": 18,
   "metadata": {
    "hidden": true
   },
   "outputs": [],
=======
   "execution_count": 23,
=======
   "execution_count": 60,
>>>>>>> group-5
   "metadata": {},
   "outputs": [
    {
     "data": {
      "text/plain": [
<<<<<<< HEAD
       "<memory at 0x104fe9c80>"
      ]
     },
     "execution_count": 23,
=======
       "<memory at 0x10f964ef0>"
      ]
     },
     "execution_count": 60,
>>>>>>> group-5
     "metadata": {},
     "output_type": "execute_result"
    }
   ],
<<<<<<< HEAD
>>>>>>> master
   "source": [
    "memoryview('John'.encode())"
=======
   "source": [
    "memoryview('Joh'.encode())"
>>>>>>> group-5
   ]
  },
  {
   "cell_type": "markdown",
<<<<<<< HEAD
<<<<<<< HEAD
   "metadata": {
    "hidden": true
   },
=======
   "metadata": {},
>>>>>>> master
=======
   "metadata": {},
>>>>>>> group-5
   "source": [
    "#### операції з словниками"
   ]
  },
  {
   "cell_type": "code",
<<<<<<< HEAD
<<<<<<< HEAD
   "execution_count": 19,
   "metadata": {
    "hidden": true
   },
   "outputs": [],
=======
   "execution_count": 30,
=======
   "execution_count": 17,
>>>>>>> group-5
   "metadata": {},
   "outputs": [
    {
     "name": "stdout",
     "output_type": "stream",
     "text": [
      "True\n"
     ]
    }
   ],
<<<<<<< HEAD
>>>>>>> master
   "source": [
    "# словники будуть рівними якщо УСІ пари 'ключ-значення рівні'\n",
    "\n",
    "d1 = {\"k1\" : 1, \"k2\" : 2 }\n",
<<<<<<< HEAD
    "d2 = dict(k1 = 1, k2 = 2)\n",
=======
    "d2 = dict(k2 = 2, k1 = 1)\n",
>>>>>>> master
=======
   "source": [
    "# словники будуть рівними якщо УСІ пари 'ключ-значення рівні'\n",
    "\n",
    "d1 = {\"k2\" : 2, \"k1\" : 1 }\n",
    "d2 = dict(k1 = 1, k2 = 2)\n",
>>>>>>> group-5
    "print(d1 == d2)\n",
    "\n",
    "# ВАЖЛИВО! словники не можна перевіряти на 'більш-менш'"
   ]
  },
  {
   "cell_type": "code",
<<<<<<< HEAD
<<<<<<< HEAD
   "execution_count": 20,
   "metadata": {
    "hidden": true
   },
   "outputs": [],
=======
   "execution_count": 34,
=======
   "execution_count": 10,
>>>>>>> group-5
   "metadata": {},
   "outputs": [
    {
     "data": {
      "text/plain": [
       "True"
      ]
     },
<<<<<<< HEAD
     "execution_count": 34,
=======
     "execution_count": 10,
>>>>>>> group-5
     "metadata": {},
     "output_type": "execute_result"
    }
   ],
   "source": [
<<<<<<< HEAD
    "l =[1,2,3, 9999999]\n",
    "k = [3,4]\n",
    "\n",
    "k >l "
=======
    "l = [111,2,3]\n",
    "l1 = [0,200000]\n",
    "\n",
    "l > l1"
>>>>>>> group-5
   ]
  },
  {
   "cell_type": "code",
<<<<<<< HEAD
   "execution_count": 25,
=======
   "execution_count": 18,
>>>>>>> group-5
   "metadata": {},
   "outputs": [
    {
     "name": "stdout",
     "output_type": "stream",
     "text": [
      "==  True\n",
      "is  False\n"
     ]
    }
   ],
<<<<<<< HEAD
>>>>>>> master
=======
>>>>>>> group-5
   "source": [
    "print('== ', d1 == d2)\n",
    "# але:\n",
    "print('is ', d1 is d2)  # оператор 'is' порівнює 'id'"
   ]
  },
  {
   "cell_type": "code",
<<<<<<< HEAD
<<<<<<< HEAD
   "execution_count": 21,
   "metadata": {
    "hidden": true
   },
   "outputs": [],
=======
   "execution_count": 35,
   "metadata": {},
   "outputs": [
    {
     "name": "stdout",
     "output_type": "stream",
     "text": [
      "['__class__', '__contains__', '__delattr__', '__delitem__', '__dir__', '__doc__', '__eq__', '__format__', '__ge__', '__getattribute__', '__getitem__', '__gt__', '__hash__', '__init__', '__init_subclass__', '__iter__', '__le__', '__len__', '__lt__', '__ne__', '__new__', '__reduce__', '__reduce_ex__', '__repr__', '__setattr__', '__setitem__', '__sizeof__', '__str__', '__subclasshook__', 'clear', 'copy', 'fromkeys', 'get', 'items', 'keys', 'pop', 'popitem', 'setdefault', 'update', 'values']\n"
     ]
    }
   ],
>>>>>>> master
=======
   "execution_count": 21,
   "metadata": {},
   "outputs": [],
>>>>>>> group-5
   "source": [
    "print(dir(dict))"
   ]
  },
  {
<<<<<<< HEAD
<<<<<<< HEAD
   "cell_type": "markdown",
   "metadata": {
    "hidden": true
   },
=======
   "cell_type": "code",
   "execution_count": 37,
   "metadata": {},
   "outputs": [],
   "source": [
    "d.clear()"
=======
   "cell_type": "markdown",
   "metadata": {},
   "source": [
    "#### доступ до елементів словника"
   ]
  },
  {
   "cell_type": "code",
   "execution_count": 25,
   "metadata": {},
   "outputs": [],
   "source": [
    "l = [11,12,13]"
>>>>>>> group-5
   ]
  },
  {
   "cell_type": "code",
<<<<<<< HEAD
   "execution_count": 38,
   "metadata": {},
   "outputs": [
    {
     "data": {
      "text/plain": [
       "{}"
      ]
     },
     "execution_count": 38,
     "metadata": {},
     "output_type": "execute_result"
    }
   ],
   "source": [
    "d"
=======
   "execution_count": 29,
   "metadata": {},
   "outputs": [
    {
     "ename": "IndexError",
     "evalue": "list assignment index out of range",
     "output_type": "error",
     "traceback": [
      "\u001b[0;31m---------------------------------------------------------------------------\u001b[0m",
      "\u001b[0;31mIndexError\u001b[0m                                Traceback (most recent call last)",
      "\u001b[0;32m<ipython-input-29-da81448244c3>\u001b[0m in \u001b[0;36m<module>\u001b[0;34m\u001b[0m\n\u001b[0;32m----> 1\u001b[0;31m \u001b[0ml\u001b[0m\u001b[0;34m[\u001b[0m\u001b[0;36m3\u001b[0m\u001b[0;34m]\u001b[0m \u001b[0;34m=\u001b[0m \u001b[0;36m998\u001b[0m\u001b[0;34m\u001b[0m\u001b[0;34m\u001b[0m\u001b[0m\n\u001b[0m",
      "\u001b[0;31mIndexError\u001b[0m: list assignment index out of range"
     ]
    }
   ],
   "source": [
    "l[3] = 998"
>>>>>>> group-5
   ]
  },
  {
   "cell_type": "code",
<<<<<<< HEAD
   "execution_count": 26,
=======
   "execution_count": 35,
>>>>>>> group-5
   "metadata": {},
   "outputs": [
    {
     "data": {
      "text/plain": [
<<<<<<< HEAD
       "True"
      ]
     },
     "execution_count": 26,
=======
       "{'k2': 2, 'k1': 1, 'k3': 4444, 'k4': 4444}"
      ]
     },
     "execution_count": 35,
>>>>>>> group-5
     "metadata": {},
     "output_type": "execute_result"
    }
   ],
   "source": [
<<<<<<< HEAD
    "d3 = d1\n",
    "d3 is d1"
   ]
  },
  {
   "cell_type": "markdown",
   "metadata": {},
>>>>>>> master
   "source": [
    "#### доступ до елементів словника"
=======
    "d1"
   ]
  },
  {
   "cell_type": "code",
   "execution_count": 34,
   "metadata": {},
   "outputs": [],
   "source": [
    "d1['k4'] = 4444"
>>>>>>> group-5
   ]
  },
  {
   "cell_type": "code",
<<<<<<< HEAD
<<<<<<< HEAD
   "execution_count": 22,
   "metadata": {
    "hidden": true
   },
   "outputs": [],
=======
   "execution_count": 27,
   "metadata": {},
   "outputs": [
    {
     "name": "stdout",
     "output_type": "stream",
     "text": [
      "{'k1': 1, 'k2': 2}\tk1 =  1\n",
      "{'k1': 'John', 'k2': 2}\n",
      "{'k1': 'John', 'k2': 2, 'k3': 'Smith'}\n"
     ]
    }
   ],
>>>>>>> master
=======
   "execution_count": 22,
   "metadata": {},
   "outputs": [],
>>>>>>> group-5
   "source": [
    "print(d1, end = '\\t')\n",
    "print (\"k1 = \", d1['k1'])\n",
    "\n",
    "d1['k1'] = \"John\"\n",
    "print(d1)\n",
    "\n",
    "d1['k3'] = \"Smith\"\n",
    "print(d1)"
   ]
  },
  {
   "cell_type": "markdown",
<<<<<<< HEAD
<<<<<<< HEAD
   "metadata": {
    "hidden": true
   },
=======
   "metadata": {},
>>>>>>> master
=======
   "metadata": {},
>>>>>>> group-5
   "source": [
    "#### функції для роботи з словниками"
   ]
  },
  {
   "cell_type": "code",
<<<<<<< HEAD
<<<<<<< HEAD
   "execution_count": 23,
   "metadata": {
    "hidden": true,
    "scrolled": true
   },
   "outputs": [],
=======
   "execution_count": 39,
=======
   "execution_count": 36,
>>>>>>> group-5
   "metadata": {
    "scrolled": true
   },
   "outputs": [
    {
     "name": "stdout",
     "output_type": "stream",
     "text": [
      "['__class__', '__contains__', '__delattr__', '__delitem__', '__dir__', '__doc__', '__eq__', '__format__', '__ge__', '__getattribute__', '__getitem__', '__gt__', '__hash__', '__init__', '__init_subclass__', '__iter__', '__le__', '__len__', '__lt__', '__ne__', '__new__', '__reduce__', '__reduce_ex__', '__repr__', '__setattr__', '__setitem__', '__sizeof__', '__str__', '__subclasshook__', 'clear', 'copy', 'fromkeys', 'get', 'items', 'keys', 'pop', 'popitem', 'setdefault', 'update', 'values']\n"
     ]
    }
   ],
<<<<<<< HEAD
>>>>>>> master
=======
>>>>>>> group-5
   "source": [
    "# методи (функції) притаманні виключно словникам\n",
    "print(dir(dict))"
   ]
  },
  {
   "cell_type": "code",
<<<<<<< HEAD
<<<<<<< HEAD
   "execution_count": 24,
   "metadata": {
    "hidden": true
   },
   "outputs": [],
=======
   "execution_count": 42,
   "metadata": {},
   "outputs": [
    {
     "data": {
      "text/plain": [
       "{'k1': 1, 'k2': 2}"
      ]
     },
     "execution_count": 42,
     "metadata": {},
     "output_type": "execute_result"
    }
   ],
   "source": [
    "d1"
   ]
  },
  {
   "cell_type": "code",
   "execution_count": 40,
=======
   "execution_count": 37,
>>>>>>> group-5
   "metadata": {},
   "outputs": [
    {
     "data": {
      "text/plain": [
<<<<<<< HEAD
       "dict_keys(['k1', 'k2'])"
      ]
     },
     "execution_count": 40,
=======
       "dict_keys(['k2', 'k1', 'k3', 'k4'])"
      ]
     },
     "execution_count": 37,
>>>>>>> group-5
     "metadata": {},
     "output_type": "execute_result"
    }
   ],
<<<<<<< HEAD
>>>>>>> master
=======
>>>>>>> group-5
   "source": [
    "# вивід усіх ключів словника\n",
    "d1.keys()"
   ]
  },
  {
   "cell_type": "code",
<<<<<<< HEAD
<<<<<<< HEAD
   "execution_count": 25,
   "metadata": {
    "hidden": true
   },
   "outputs": [],
=======
   "execution_count": 41,
=======
   "execution_count": 38,
>>>>>>> group-5
   "metadata": {},
   "outputs": [
    {
     "data": {
      "text/plain": [
<<<<<<< HEAD
       "dict_values([1, 2])"
      ]
     },
     "execution_count": 41,
=======
       "dict_values([2, 1, 4444, 4444])"
      ]
     },
     "execution_count": 38,
>>>>>>> group-5
     "metadata": {},
     "output_type": "execute_result"
    }
   ],
<<<<<<< HEAD
>>>>>>> master
=======
>>>>>>> group-5
   "source": [
    "# вивід усіх значень словника\n",
    "d1.values()"
   ]
  },
  {
   "cell_type": "code",
<<<<<<< HEAD
<<<<<<< HEAD
   "execution_count": 26,
   "metadata": {
    "hidden": true
   },
   "outputs": [],
=======
   "execution_count": 43,
=======
   "execution_count": 39,
>>>>>>> group-5
   "metadata": {},
   "outputs": [
    {
     "data": {
      "text/plain": [
<<<<<<< HEAD
       "dict_items([('k1', 1), ('k2', 2)])"
      ]
     },
     "execution_count": 43,
=======
       "dict_items([('k2', 2), ('k1', 1), ('k3', 4444), ('k4', 4444)])"
      ]
     },
     "execution_count": 39,
>>>>>>> group-5
     "metadata": {},
     "output_type": "execute_result"
    }
   ],
<<<<<<< HEAD
>>>>>>> master
=======
>>>>>>> group-5
   "source": [
    "# вивід усіх пар 'ключ-значення' у вигляді списка кортежів\n",
    "d1.items()"
   ]
  },
  {
   "cell_type": "code",
<<<<<<< HEAD
<<<<<<< HEAD
   "execution_count": 27,
   "metadata": {
    "hidden": true
   },
   "outputs": [],
=======
   "execution_count": 47,
   "metadata": {},
   "outputs": [
    {
     "data": {
      "text/plain": [
       "'ключ не знайден'"
      ]
     },
     "execution_count": 47,
     "metadata": {},
     "output_type": "execute_result"
    }
   ],
>>>>>>> master
   "source": [
    "# видалення елемента словника по ключу \n",
    "d1.pop(\"k1\", \"ключ не знайден\")"
   ]
  },
  {
<<<<<<< HEAD
   "cell_type": "markdown",
   "metadata": {},
   "source": [
    "## Множини\n",
    "\n",
    "__множина__ - це об'єкт(тип) Python, який містить послідовність унікальних (такі, які не повторюються) елементів _незмінного_ (такого, який має __хеш__) типу (str, int, ...) \n",
    "\n",
    "<pre>\n",
    "m = {1, '1', -3.14, True, None, (1,2,3) }\n",
    "</pre>\n",
    "\n",
    "множини є __змінними__ об'єктами\n",
    "\n",
    "[Докладніше про множини в Python](https://pythonworld.ru/tipy-dannyx-v-python/mnozhestva-set-i-frozenset.html)"
=======
   "cell_type": "code",
   "execution_count": 45,
   "metadata": {},
   "outputs": [
    {
     "data": {
      "text/plain": [
       "{'k2': 2}"
      ]
     },
     "execution_count": 45,
     "metadata": {},
     "output_type": "execute_result"
    }
   ],
   "source": [
    "d1"
   ]
  },
  {
   "cell_type": "markdown",
   "metadata": {},
   "source": [
    "## Множини\n",
    "\n",
    "__множина__ - це об'єкт(тип) Python, який містить послідовність унікальних (такі, які не повторюються) елементів _незмінного_ (такого, який має __хеш__) типу (str, int, ...) \n",
    "\n",
    "<pre>\n",
    "m = {1, '1', -3.14, True, None, (1,2,3) }\n",
    "</pre>\n",
    "\n",
    "множини є __змінними__ об'єктами\n",
    "\n",
    "[Докладніше про множини в Python](https://pythonworld.ru/tipy-dannyx-v-python/mnozhestva-set-i-frozenset.html)"
   ]
  },
  {
   "cell_type": "code",
   "execution_count": 52,
=======
   "execution_count": 42,
>>>>>>> group-5
   "metadata": {},
   "outputs": [
    {
     "data": {
      "text/plain": [
<<<<<<< HEAD
       "(1, 2, 1)"
      ]
     },
     "execution_count": 52,
=======
       "{'k2': 2, 'k3': 4444, 'k4': 4444}"
      ]
     },
     "execution_count": 42,
>>>>>>> group-5
     "metadata": {},
     "output_type": "execute_result"
    }
   ],
   "source": [
<<<<<<< HEAD
    "k = (1 , 2, 1)\n",
    "k"
=======
    "d1"
>>>>>>> group-5
   ]
  },
  {
   "cell_type": "code",
<<<<<<< HEAD
   "execution_count": 56,
=======
   "execution_count": 45,
>>>>>>> group-5
   "metadata": {},
   "outputs": [
    {
     "data": {
      "text/plain": [
<<<<<<< HEAD
       "{1, 222}"
      ]
     },
     "execution_count": 56,
=======
       "'ключ не знайден'"
      ]
     },
     "execution_count": 45,
>>>>>>> group-5
     "metadata": {},
     "output_type": "execute_result"
    }
   ],
   "source": [
<<<<<<< HEAD
    "s = {1 , 222, 1, 1, 1}\n",
    "s"
>>>>>>> master
   ]
  },
  {
   "cell_type": "code",
<<<<<<< HEAD
   "execution_count": 28,
   "metadata": {
    "scrolled": true
   },
   "outputs": [],
   "source": [
    "# Створити множник можна так \n",
=======
   "execution_count": 49,
=======
    "# видалення елемента словника по ключу \n",
    "d1.pop(\"k1\", \"ключ не знайден\")"
   ]
  },
  {
   "cell_type": "markdown",
   "metadata": {},
   "source": [
    "## Множини\n",
    "\n",
    "__множина__ - це об'єкт(тип) Python, який містить послідовність унікальних (такі, які не повторюються) елементів _незмінного_ (такого, який має __хеш__) типу (str, int, ...) \n",
    "\n",
    "<pre>\n",
    "m = {1, '1', -3.14, True, None, (1,2,3) }\n",
    "</pre>\n",
    "\n",
    "множини є __змінними__ об'єктами\n",
    "\n",
    "[Докладніше про множини в Python](https://pythonworld.ru/tipy-dannyx-v-python/mnozhestva-set-i-frozenset.html)"
   ]
  },
  {
   "cell_type": "code",
   "execution_count": 46,
>>>>>>> group-5
   "metadata": {
    "scrolled": true
   },
   "outputs": [
    {
     "name": "stdout",
     "output_type": "stream",
     "text": [
<<<<<<< HEAD
      "<class 'set'> {1, 2}\n"
=======
      "<class 'set'>\n"
>>>>>>> group-5
     ]
    }
   ],
   "source": [
<<<<<<< HEAD
    "# Створити мнkжник можна так \n",
>>>>>>> master
=======
    "# Створити множник можна так \n",
>>>>>>> group-5
    "m = {1, 2}\n",
    "\n",
    "# або через функцію-конструктор\n",
    "m = set([1, 2])\n",
    "\n",
<<<<<<< HEAD
<<<<<<< HEAD
    "print(type(m))"
=======
    "print(type(m), m)"
>>>>>>> master
=======
    "print(type(m))"
>>>>>>> group-5
   ]
  },
  {
   "cell_type": "code",
<<<<<<< HEAD
<<<<<<< HEAD
   "execution_count": 29,
   "metadata": {},
   "outputs": [],
   "source": [
    "m = {1, 2}\n",
    "print(m, id(m))\n",
    "m.add(3)\n",
=======
   "execution_count": 58,
=======
   "execution_count": 47,
>>>>>>> group-5
   "metadata": {},
   "outputs": [
    {
     "name": "stdout",
     "output_type": "stream",
     "text": [
<<<<<<< HEAD
      "{1, 2} 4379247152\n",
      "{1, 2, 2222} 4379247152\n"
=======
      "{1, 2} 4412823264\n",
      "{1, 2, 3} 4412823264\n"
>>>>>>> group-5
     ]
    }
   ],
   "source": [
    "m = {1, 2}\n",
    "print(m, id(m))\n",
<<<<<<< HEAD
    "m.add(2222)\n",
>>>>>>> master
=======
    "m.add(3)\n",
>>>>>>> group-5
    "print(m, id(m))"
   ]
  },
  {
   "cell_type": "code",
<<<<<<< HEAD
<<<<<<< HEAD
   "execution_count": 30,
   "metadata": {},
   "outputs": [],
=======
   "execution_count": 59,
   "metadata": {},
   "outputs": [
    {
     "name": "stdout",
     "output_type": "stream",
     "text": [
      "(1, 2) 4377713472\n",
      "(1, 2, 3) 4379868688\n"
     ]
    }
   ],
>>>>>>> master
=======
   "execution_count": 30,
   "metadata": {},
   "outputs": [],
>>>>>>> group-5
   "source": [
    "k = (1, 2)\n",
    "print(k, id(k))\n",
    "k += (3,)\n",
    "print(k, id(k))"
   ]
  },
  {
   "cell_type": "markdown",
   "metadata": {},
   "source": [
    "#### операції та функції роботи з множинами"
   ]
  },
  {
   "cell_type": "code",
<<<<<<< HEAD
<<<<<<< HEAD
   "execution_count": 31,
   "metadata": {
    "scrolled": false
   },
   "outputs": [],
=======
   "execution_count": 60,
=======
   "execution_count": 48,
>>>>>>> group-5
   "metadata": {
    "scrolled": false
   },
   "outputs": [
    {
     "name": "stdout",
     "output_type": "stream",
     "text": [
      "['__and__', '__class__', '__contains__', '__delattr__', '__dir__', '__doc__', '__eq__', '__format__', '__ge__', '__getattribute__', '__gt__', '__hash__', '__iand__', '__init__', '__init_subclass__', '__ior__', '__isub__', '__iter__', '__ixor__', '__le__', '__len__', '__lt__', '__ne__', '__new__', '__or__', '__rand__', '__reduce__', '__reduce_ex__', '__repr__', '__ror__', '__rsub__', '__rxor__', '__setattr__', '__sizeof__', '__str__', '__sub__', '__subclasshook__', '__xor__', 'add', 'clear', 'copy', 'difference', 'difference_update', 'discard', 'intersection', 'intersection_update', 'isdisjoint', 'issubset', 'issuperset', 'pop', 'remove', 'symmetric_difference', 'symmetric_difference_update', 'union', 'update']\n"
     ]
    }
   ],
<<<<<<< HEAD
>>>>>>> master
=======
>>>>>>> group-5
   "source": [
    "print(dir(m))"
   ]
  },
  {
   "cell_type": "code",
<<<<<<< HEAD
<<<<<<< HEAD
   "execution_count": 32,
   "metadata": {},
   "outputs": [],
   "source": [
    "l = [3, 2, 44, 765]\n",
=======
   "execution_count": 63,
=======
   "execution_count": 52,
>>>>>>> group-5
   "metadata": {},
   "outputs": [
    {
     "name": "stdout",
     "output_type": "stream",
     "text": [
      "{2, 3, 44, 765}\n"
     ]
    }
   ],
   "source": [
<<<<<<< HEAD
    "l = [3, 2, 44, 765, 44]\n",
>>>>>>> master
=======
    "l = [3, 2, 44, 765,44, 3]\n",
>>>>>>> group-5
    "set_l = set(l)\n",
    "print(set_l)"
   ]
  },
  {
   "cell_type": "code",
<<<<<<< HEAD
<<<<<<< HEAD
   "execution_count": 33,
   "metadata": {},
   "outputs": [],
=======
   "execution_count": 64,
   "metadata": {},
   "outputs": [
    {
     "name": "stdout",
     "output_type": "stream",
     "text": [
      "{'c', 'a', 'b'}\n"
     ]
    }
   ],
>>>>>>> master
=======
   "execution_count": 33,
   "metadata": {},
   "outputs": [],
>>>>>>> group-5
   "source": [
    "d = dict(a=3, b=1, c=2)\n",
    "set_d = set(d)\n",
    "print(set_d)"
   ]
  },
  {
   "cell_type": "code",
<<<<<<< HEAD
<<<<<<< HEAD
   "execution_count": 34,
   "metadata": {},
   "outputs": [],
=======
   "execution_count": 65,
=======
   "execution_count": 53,
>>>>>>> group-5
   "metadata": {},
   "outputs": [
    {
     "name": "stdout",
     "output_type": "stream",
     "text": [
<<<<<<< HEAD
      "{'m', ' ', 'f', 's', 'b', 'p', ',', '.', 'c', 'd', 'o', 'i', 'n', 'g', 'e', 'a', 'l', 'M', 'N', 't', 'r', 'L', 'u'}\n"
     ]
    }
   ],
>>>>>>> master
=======
      "{'t', 'e', 'b', 'f', '.', 'p', 'M', 'a', 'm', 'r', ',', 'N', 's', 'L', 'l', 'o', 'd', 'n', 'u', 'c', 'g', 'i', ' '}\n"
     ]
    }
   ],
>>>>>>> group-5
   "source": [
    "s = \"Lorem ipsum dolor sit amet, consectetur adipiscing elit. Morbi auctor eros eu leo ultrices suscipit. Nulla facilisi\"\n",
    "set_s = set(s)\n",
    "print(set_s)"
   ]
  },
  {
   "cell_type": "code",
<<<<<<< HEAD
<<<<<<< HEAD
   "execution_count": 35,
=======
   "execution_count": 67,
>>>>>>> master
=======
   "execution_count": 49,
>>>>>>> group-5
   "metadata": {},
   "outputs": [],
   "source": [
    "a = {1, 2, 3, 4}\n",
    "b = {2, 4, 5}"
   ]
  },
  {
   "cell_type": "code",
<<<<<<< HEAD
<<<<<<< HEAD
   "execution_count": 36,
   "metadata": {},
   "outputs": [],
=======
   "execution_count": 68,
   "metadata": {},
   "outputs": [
    {
     "data": {
      "text/plain": [
       "({1, 2, 3, 4}, {2, 4, 5})"
      ]
     },
     "execution_count": 68,
     "metadata": {},
     "output_type": "execute_result"
    }
   ],
   "source": [
    "a,b"
   ]
  },
  {
   "cell_type": "code",
   "execution_count": 69,
=======
   "execution_count": 50,
>>>>>>> group-5
   "metadata": {},
   "outputs": [
    {
     "name": "stdout",
     "output_type": "stream",
     "text": [
      "{1, 3} {1, 2, 3, 4, 5} {2, 4}\n"
     ]
    }
   ],
<<<<<<< HEAD
>>>>>>> master
=======
>>>>>>> group-5
   "source": [
    "c = a.difference(b)    # різниця\n",
    "d = a.union(b)         # об'єднання\n",
    "e = a.intersection(b)  # перетин\n",
    "\n",
    "print(c, d, e)"
   ]
  },
  {
   "cell_type": "code",
<<<<<<< HEAD
<<<<<<< HEAD
   "execution_count": 37,
   "metadata": {},
   "outputs": [],
=======
   "execution_count": 70,
   "metadata": {},
   "outputs": [
    {
     "name": "stdout",
     "output_type": "stream",
     "text": [
      "{5} {1, 2, 3, 4, 5} {2, 4}\n"
     ]
    }
   ],
>>>>>>> master
=======
   "execution_count": 37,
   "metadata": {},
   "outputs": [],
>>>>>>> group-5
   "source": [
    "c = b.difference(a)\n",
    "d = b.union(a)\n",
    "e = b.intersection(a)\n",
    "\n",
    "print(c, d, e)"
   ]
  },
  {
<<<<<<< HEAD
<<<<<<< HEAD
=======
   "cell_type": "code",
   "execution_count": 78,
   "metadata": {},
   "outputs": [
    {
     "data": {
      "text/plain": [
       "-5821161592400733590"
      ]
     },
     "execution_count": 78,
     "metadata": {},
     "output_type": "execute_result"
    }
   ],
   "source": [
    "hash('  year_of_birth')"
   ]
  },
  {
>>>>>>> master
=======
>>>>>>> group-5
   "cell_type": "markdown",
   "metadata": {},
   "source": [
    "## ТЕСТОВА ЧАСТИНА\n",
    "\n",
    "<p style=\"color:red\"> разкоментуйте (уберіть '#') перший рядок (<b>#!!pip ...</b>) в наступному кодовому рядку і запустить рядок на виконання (може зайняти деякий час!)</p>"
   ]
  },
  {
   "cell_type": "code",
<<<<<<< HEAD
<<<<<<< HEAD
   "execution_count": 1,
=======
   "execution_count": 74,
>>>>>>> master
=======
   "execution_count": 1,
>>>>>>> group-5
   "metadata": {
    "run_control": {
     "marked": false
    },
    "tags": [
     "hide-input"
    ]
   },
   "outputs": [],
   "source": [
    "!!pip install otter-grader\n",
    "import otter\n",
    "grader = otter.Notebook()"
   ]
  },
  {
<<<<<<< HEAD
<<<<<<< HEAD
=======
   "cell_type": "code",
   "execution_count": 72,
=======
   "cell_type": "code",
   "execution_count": 55,
>>>>>>> group-5
   "metadata": {},
   "outputs": [
    {
     "data": {
      "text/plain": [
       "otter.check.notebook.Notebook"
      ]
     },
<<<<<<< HEAD
     "execution_count": 72,
=======
     "execution_count": 55,
>>>>>>> group-5
     "metadata": {},
     "output_type": "execute_result"
    }
   ],
   "source": [
    "type(grader)"
   ]
  },
  {
<<<<<<< HEAD
>>>>>>> master
=======
>>>>>>> group-5
   "cell_type": "markdown",
   "metadata": {},
   "source": [
    "#### виконуйте завдання послідовно вписуючи на відведених місцях (...) свій код та перевіряйте  код запускаючи  'grader.check()'"
   ]
  },
  {
   "cell_type": "markdown",
   "metadata": {
    "deletable": false,
    "editable": false
   },
   "source": [
    "__Завдання 1__ \n",
    "1. створити пустий словник з ім'ям 'my_info'\n",
    "2. додати в словник наступні елементи\n",
    "  - своє ім'я (ключ = __name__)\n",
    "  - своє прізвище (ключ = __surname__)\n",
    "  - свій рік народження (ключ = __year_of_birth__)\n",
    "  - місяць народження (ключ = __month_of_birth__) як __число__\n",
    "<!--\n",
    "BEGIN QUESTION\n",
    "name: q1\n",
    "manual: false\n",
    "points: 1\n",
    "-->"
   ]
  },
  {
   "cell_type": "code",
<<<<<<< HEAD
<<<<<<< HEAD
   "execution_count": 8,
=======
   "execution_count": 82,
>>>>>>> master
=======
   "execution_count": 66,
>>>>>>> group-5
   "metadata": {
    "run_control": {
     "marked": true
    }
   },
   "outputs": [],
   "source": [
    "my_info = {}\n",
<<<<<<< HEAD
    "my_info['name'] = 'John'\n",
    "my_info['surname'] = 'Smith'\n",
    "my_info['year_of_birth'] = 2020\n",
<<<<<<< HEAD
    "my_info['month_of_birth'] = 1"
=======
    "my_info['month_of_birth'] = 2"
>>>>>>> master
=======
    "my_info['name'] = 'john'\n",
    "my_info['surname'] = 'smith'\n",
    "my_info['year_of_birth'] = 2020\n",
    "my_info['month_of_birth'] = 2"
>>>>>>> group-5
   ]
  },
  {
   "cell_type": "code",
<<<<<<< HEAD
<<<<<<< HEAD
   "execution_count": 9,
=======
   "execution_count": 83,
>>>>>>> master
=======
   "execution_count": 67,
>>>>>>> group-5
   "metadata": {
    "deletable": false,
    "editable": false
   },
   "outputs": [
    {
     "data": {
      "text/html": [
       "\n",
       "    \n",
       "    \n",
       "        <p>All tests passed!</p>\n",
       "    \n",
       "    "
      ],
      "text/plain": [
       "\n",
       "    All tests passed!\n",
       "    "
      ]
     },
<<<<<<< HEAD
<<<<<<< HEAD
     "execution_count": 9,
=======
     "execution_count": 83,
>>>>>>> master
=======
     "execution_count": 67,
>>>>>>> group-5
     "metadata": {},
     "output_type": "execute_result"
    }
   ],
   "source": [
    "grader.check(\"q1\")"
   ]
  },
  {
   "cell_type": "markdown",
   "metadata": {
    "deletable": false,
    "editable": false
   },
   "source": [
    "__Завдання 2__ \n",
    "1. Змінити поле __month_of_birth__ в словнику __my_info__ на назву місяця\n",
    "<!--\n",
    "BEGIN QUESTION\n",
    "name: q2\n",
    "manual: false\n",
    "points: 1\n",
    "-->"
   ]
  },
  {
   "cell_type": "code",
<<<<<<< HEAD
<<<<<<< HEAD
   "execution_count": 10,
   "metadata": {
=======
   "execution_count": 47,
   "metadata": {
    "collapsed": true,
>>>>>>> master
=======
   "execution_count": 47,
   "metadata": {
    "collapsed": true,
>>>>>>> group-5
    "run_control": {
     "marked": true
    }
   },
   "outputs": [],
   "source": [
<<<<<<< HEAD
<<<<<<< HEAD
    "my_info['month_of_birth'] = 'jun'"
=======
    "my_info"
>>>>>>> master
=======
    "..."
>>>>>>> group-5
   ]
  },
  {
   "cell_type": "code",
<<<<<<< HEAD
<<<<<<< HEAD
   "execution_count": 11,
=======
   "execution_count": null,
>>>>>>> master
=======
   "execution_count": null,
>>>>>>> group-5
   "metadata": {
    "deletable": false,
    "editable": false
   },
<<<<<<< HEAD
<<<<<<< HEAD
   "outputs": [
    {
     "data": {
      "text/html": [
       "\n",
       "    \n",
       "    \n",
       "        <p>All tests passed!</p>\n",
       "    \n",
       "    "
      ],
      "text/plain": [
       "\n",
       "    All tests passed!\n",
       "    "
      ]
     },
     "execution_count": 11,
     "metadata": {},
     "output_type": "execute_result"
    }
   ],
=======
   "outputs": [],
>>>>>>> master
=======
   "outputs": [],
>>>>>>> group-5
   "source": [
    "grader.check(\"q2\")"
   ]
  },
  {
   "cell_type": "markdown",
   "metadata": {
    "deletable": false,
    "editable": false
   },
   "source": [
    "__Завдання 3__ \n",
    "1. Зробити копію словника 'my_info' з ім'ям 'my_info_long'\n",
    "2. Додати в словник 'my_info_long' наступні поля і значення\n",
    "    - __'name_of_university'__ (текстове)\n",
    "    - __'faculty'__ (текстове)\n",
    "    - __'course'__ (числове)\n",
    "    - __'group'__ (текстове)\n",
    "    - __'budget'__(логічне)\n",
    "<!--\n",
    "BEGIN QUESTION\n",
    "name: q3\n",
    "manual: false\n",
    "points: 1\n",
    "-->"
   ]
  },
  {
   "cell_type": "code",
<<<<<<< HEAD
<<<<<<< HEAD
   "execution_count": 16,
=======
   "execution_count": 50,
>>>>>>> master
=======
   "execution_count": 50,
>>>>>>> group-5
   "metadata": {
    "code_folding": [],
    "run_control": {
     "marked": true
    }
   },
   "outputs": [],
   "source": [
    "# --- п.1\n",
<<<<<<< HEAD
<<<<<<< HEAD
    "my_info_long = my_info.copy()"
=======
    "my_info_long = ..."
>>>>>>> master
=======
    "my_info_long = ..."
>>>>>>> group-5
   ]
  },
  {
   "cell_type": "code",
<<<<<<< HEAD
<<<<<<< HEAD
   "execution_count": 17,
=======
   "execution_count": null,
>>>>>>> master
=======
   "execution_count": null,
>>>>>>> group-5
   "metadata": {
    "deletable": false,
    "editable": false
   },
<<<<<<< HEAD
<<<<<<< HEAD
   "outputs": [
    {
     "data": {
      "text/html": [
       "\n",
       "    \n",
       "    \n",
       "        <p>All tests passed!</p>\n",
       "    \n",
       "    "
      ],
      "text/plain": [
       "\n",
       "    All tests passed!\n",
       "    "
      ]
     },
     "execution_count": 17,
     "metadata": {},
     "output_type": "execute_result"
    }
   ],
=======
   "outputs": [],
>>>>>>> master
=======
   "outputs": [],
>>>>>>> group-5
   "source": [
    "grader.check(\"q3\")"
   ]
  },
  {
   "cell_type": "code",
<<<<<<< HEAD
<<<<<<< HEAD
   "execution_count": 22,
=======
   "execution_count": 54,
>>>>>>> master
=======
   "execution_count": 54,
>>>>>>> group-5
   "metadata": {
    "run_control": {
     "marked": true
    }
   },
   "outputs": [],
   "source": [
    "# --- п.2\n",
<<<<<<< HEAD
<<<<<<< HEAD
    "my_info_long['name_of_university'] = 'KNUTE'\n",
    "my_info_long['faculty'] = 'FIT'\n",
    "my_info_long['course'] = 1\n",
    "my_info_long['group'] = 11\n",
    "my_info_long['budget'] = True"
=======
    "..."
>>>>>>> master
=======
    "..."
>>>>>>> group-5
   ]
  },
  {
   "cell_type": "code",
<<<<<<< HEAD
<<<<<<< HEAD
   "execution_count": 23,
=======
   "execution_count": null,
>>>>>>> master
=======
   "execution_count": null,
>>>>>>> group-5
   "metadata": {
    "deletable": false,
    "editable": false
   },
<<<<<<< HEAD
<<<<<<< HEAD
   "outputs": [
    {
     "data": {
      "text/html": [
       "\n",
       "    \n",
       "    \n",
       "        <p>All tests passed!</p>\n",
       "    \n",
       "    "
      ],
      "text/plain": [
       "\n",
       "    All tests passed!\n",
       "    "
      ]
     },
     "execution_count": 23,
     "metadata": {},
     "output_type": "execute_result"
    }
   ],
=======
   "outputs": [],
>>>>>>> master
=======
   "outputs": [],
>>>>>>> group-5
   "source": [
    "grader.check(\"q4\")"
   ]
  },
  {
   "cell_type": "markdown",
   "metadata": {
    "deletable": false,
    "editable": false
   },
   "source": [
    "__Завдання 4__ \n",
    "\n",
    "\n",
    "Написати код, який знаходить спільні значення в множині  __set_a__ та __set_b__\n",
    "\n",
    "\n",
    "<!--\n",
    "BEGIN QUESTION\n",
    "name: q5\n",
    "manual: false\n",
    "points: 1\n",
    "-->"
   ]
  },
  {
   "cell_type": "code",
<<<<<<< HEAD
<<<<<<< HEAD
   "execution_count": 24,
=======
   "execution_count": 59,
>>>>>>> master
=======
   "execution_count": 59,
>>>>>>> group-5
   "metadata": {
    "run_control": {
     "marked": true
    }
   },
   "outputs": [],
   "source": [
    "set_a = {11, 14, 5, 12, 16, 44, 8}\n",
    "set_b = {22, 14, 4, 15, 8}\n",
    "\n",
<<<<<<< HEAD
<<<<<<< HEAD
    "set_c = set_a.intersection(set_b)"
=======
    "set_c = ..."
>>>>>>> master
   ]
  },
  {
   "cell_type": "code",
<<<<<<< HEAD
   "execution_count": 27,
   "metadata": {},
   "outputs": [
    {
     "data": {
      "text/plain": [
       "{8, 14}"
      ]
     },
     "execution_count": 27,
     "metadata": {},
     "output_type": "execute_result"
    }
   ],
   "source": [
    "set_c"
=======
    "set_c = ..."
>>>>>>> group-5
   ]
  },
  {
   "cell_type": "code",
<<<<<<< HEAD
   "execution_count": 25,
=======
   "execution_count": null,
>>>>>>> master
=======
   "execution_count": null,
>>>>>>> group-5
   "metadata": {
    "deletable": false,
    "editable": false
   },
<<<<<<< HEAD
<<<<<<< HEAD
   "outputs": [
    {
     "data": {
      "text/html": [
       "\n",
       "    \n",
       "    \n",
       "        <p>All tests passed!</p>\n",
       "    \n",
       "    "
      ],
      "text/plain": [
       "\n",
       "    All tests passed!\n",
       "    "
      ]
     },
     "execution_count": 25,
     "metadata": {},
     "output_type": "execute_result"
    }
   ],
=======
   "outputs": [],
>>>>>>> master
=======
   "outputs": [],
>>>>>>> group-5
   "source": [
    "grader.check(\"q5\")"
   ]
  },
  {
   "cell_type": "markdown",
   "metadata": {
    "deletable": false,
    "editable": false
   },
   "source": [
    "__Завдання 5__ \n",
    "\n",
    "Підрахувати кількість __унікальних__ символів в тексті\n",
    "\n",
    "<!--\n",
    "BEGIN QUESTION\n",
    "name: q6\n",
    "manual: false\n",
    "points: 1\n",
    "-->"
   ]
  },
  {
   "cell_type": "code",
<<<<<<< HEAD
<<<<<<< HEAD
   "execution_count": 31,
=======
   "execution_count": 133,
>>>>>>> master
=======
   "execution_count": 133,
>>>>>>> group-5
   "metadata": {
    "run_control": {
     "marked": true
    }
   },
   "outputs": [],
   "source": [
    "some_text = \"\"\"Lorem ipsum dolor sit amet, consectetur adipiscing elit. \n",
    "Morbi auctor eros eu leo ultrices suscipit. \n",
    "Nulla facilisi. Fusce a cursus lectus. Sed erat erat, ultrices.\"\"\"\n",
    "\n",
<<<<<<< HEAD
<<<<<<< HEAD
    "set_of_text = set(some_text)\n",
    "kol_uniq_symb = len(set_of_text) "
=======
    "...\n",
    "kol_uniq_symb = ..."
>>>>>>> master
=======
    "...\n",
    "kol_uniq_symb = ..."
>>>>>>> group-5
   ]
  },
  {
   "cell_type": "code",
<<<<<<< HEAD
<<<<<<< HEAD
   "execution_count": 33,
=======
   "execution_count": null,
>>>>>>> master
=======
   "execution_count": null,
>>>>>>> group-5
   "metadata": {
    "deletable": false,
    "editable": false
   },
<<<<<<< HEAD
<<<<<<< HEAD
   "outputs": [
    {
     "data": {
      "text/html": [
       "\n",
       "    \n",
       "    \n",
       "        <p>All tests passed!</p>\n",
       "    \n",
       "    "
      ],
      "text/plain": [
       "\n",
       "    All tests passed!\n",
       "    "
      ]
     },
     "execution_count": 33,
     "metadata": {},
     "output_type": "execute_result"
    }
   ],
=======
   "outputs": [],
>>>>>>> master
=======
   "outputs": [],
>>>>>>> group-5
   "source": [
    "grader.check(\"q6\")"
   ]
  },
  {
   "cell_type": "markdown",
   "metadata": {},
   "source": [
    "<h3 style=\"color:red\"> Наступні рядки виконувати не треба (це для викладача)\n",
    "</h3>\n"
   ]
  },
  {
   "cell_type": "markdown",
   "metadata": {
    "deletable": false,
    "editable": false
   },
   "source": [
    "---\n",
    "\n",
    "To double-check your work, the cell below will rerun all of the autograder tests."
   ]
  },
  {
   "cell_type": "code",
   "execution_count": null,
   "metadata": {
    "deletable": false,
    "editable": false
   },
   "outputs": [],
   "source": [
    "grader.check_all()"
   ]
  },
  {
   "cell_type": "markdown",
   "metadata": {
    "deletable": false,
    "editable": false
   },
   "source": [
    "## Submission\n",
    "\n",
    "Make sure you have run all cells in your notebook in order before running the cell below, so that all images/graphs appear in the output. The cell below will generate a zip file for you to submit. **Please save before exporting!**"
   ]
  },
  {
   "cell_type": "code",
   "execution_count": null,
   "metadata": {
    "deletable": false,
    "editable": false
   },
   "outputs": [],
   "source": [
    "# Save your notebook first, then run this cell to export your submission.\n",
    "grader.export(\"lab_3-assign_1.ipynb\")"
   ]
  },
  {
   "cell_type": "markdown",
   "metadata": {},
   "source": [
    " "
   ]
  }
 ],
 "metadata": {
  "kernelspec": {
   "display_name": "Python 3",
   "language": "python",
   "name": "python3"
  },
  "language_info": {
   "codemirror_mode": {
    "name": "ipython",
    "version": 3
   },
   "file_extension": ".py",
   "mimetype": "text/x-python",
   "name": "python",
   "nbconvert_exporter": "python",
   "pygments_lexer": "ipython3",
   "version": "3.7.4"
  }
 },
 "nbformat": 4,
 "nbformat_minor": 2
}
